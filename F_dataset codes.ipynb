{
 "cells": [
  {
   "cell_type": "code",
   "execution_count": 1,
   "metadata": {},
   "outputs": [],
   "source": [
    "import os\n",
    "import cv2 \n",
    "import numpy as np\n",
    "from keras.models import Sequential\n",
    "from keras.layers import Conv2D, MaxPooling2D, Flatten, Dense\n",
    "\n",
    "# Create dataset folder\n",
    "os.mkdir('C:/New folder/Dr. Surya/Project/F_dataset') \n",
    "\n",
    "# Create train and test subfolders  \n",
    "os.mkdir('C:/New folder/Dr. Surya/Project/F_dataset/train')\n",
    "os.mkdir('C:/New folder/Dr. Surya/Project/F_dataset/test')\n",
    "\n",
    "# Copy raw images to train and test subfolders\n",
    "os.system(f'cp C:/New folder/Dr. Surya/Project/crack/* C:/New folder/Dr. Surya/Project/F_dataset/train')  \n",
    "os.system(f'cp C:/New folder/Dr. Surya/Project/noncrack/* C:/New folder/Dr. Surya/Project/F_dataset/train')\n",
    "\n",
    "os.system(f'cp C:/New folder/Dr. Surya/Project/crack/* C:/New folder/Dr. Surya/Project/F_dataset/test')\n",
    "os.system(f'cp C:/New folder/Dr. Surya/Project/noncrack/* C:/New folder/Dr. Surya/Project/F_dataset/test')\n",
    "\n",
    "# Preprocess function  \n",
    "def preprocess(img):\n",
    "  img = cv2.resize(img, (224,224))\n",
    "  img = cv2.convertScaleAbs(img, alpha=1.0)    \n",
    "  img = cv2.cvtColor(img, cv2.COLOR_BGR2RGB)\n",
    "  return img\n",
    "\n",
    "# Preprocess images\n",
    "for split in ['train', 'test']:\n",
    "  \n",
    "  images = []\n",
    "  labels = []\n",
    "\n",
    "  for root,dirs,files in os.walk(f'C:/New folder/Dr. Surya/Project/F_dataset/{split}'):\n",
    "    for f in files:\n",
    "      img = cv2.imread(os.path.join(root,f))  \n",
    "      pimg = preprocess(img)\n",
    "      images.append(pimg) \n",
    "      labels.append(int(root[-1]))  \n",
    "\n",
    "  np.save(f'C:/New folder/Dr. Surya/Project/F_dataset/{split}_images.npy', images)\n",
    "  np.save(f'C:/New folder/Dr. Surya/Project/F_dataset/{split}_labels.npy', labels)\n",
    "\n",
    "# Dataset class  \n",
    "class Dataset:\n",
    "  def __init__(self, root_dir):\n",
    "    self.train_images = np.load(os.path.join(root_dir,'train_images.npy'))\n",
    "    self.train_labels = np.load(os.path.join(root_dir,'train_labels.npy'))\n",
    "  \n",
    "  def __getitem__(self,i):  \n",
    "    return (self.train_images[i], self.train_labels[i])\n",
    "\n",
    "  def __len__(self):\n",
    "    return len(self.train_images)\n"
   ]
  }
 ],
 "metadata": {
  "kernelspec": {
   "display_name": "Python 3",
   "language": "python",
   "name": "python3"
  },
  "language_info": {
   "codemirror_mode": {
    "name": "ipython",
    "version": 3
   },
   "file_extension": ".py",
   "mimetype": "text/x-python",
   "name": "python",
   "nbconvert_exporter": "python",
   "pygments_lexer": "ipython3",
   "version": "3.11.6"
  }
 },
 "nbformat": 4,
 "nbformat_minor": 2
}
